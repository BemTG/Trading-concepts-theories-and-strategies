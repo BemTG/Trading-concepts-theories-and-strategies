{
 "cells": [
  {
   "cell_type": "code",
   "execution_count": 1,
   "metadata": {},
   "outputs": [],
   "source": [
    "import pandas as pd \n",
    "import numpy as np\n"
   ]
  },
  {
   "cell_type": "code",
   "execution_count": 2,
   "metadata": {},
   "outputs": [
    {
     "name": "stderr",
     "output_type": "stream",
     "text": [
      "Using TensorFlow backend.\n"
     ]
    }
   ],
   "source": [
    "import pandas_datareader as dt\n",
    "import math\n",
    "import talib\n",
    "import tensorflow as tf\n",
    "import keras\n",
    "from keras.models import Sequential\n",
    "from keras.layers import LSTM\n",
    "from keras.layers import Dense\n",
    "from sklearn.preprocessing import StandardScaler\n",
    "import seaborn as sns\n",
    "\n",
    "\n",
    "\n",
    "import pandas as pd\n",
    "import matplotlib as mpl\n",
    "import matplotlib.pyplot as plt\n",
    "from sklearn.model_selection import train_test_split\n",
    "from keras.preprocessing.sequence import TimeseriesGenerator\n",
    "from sklearn.preprocessing import MinMaxScaler, StandardScaler\n",
    "import tensorflow as tf\n",
    "\n",
    "import pandas_datareader as dt\n",
    "import math\n",
    "\n",
    "import tensorflow as tf\n",
    "import keras\n",
    "from keras.models import Sequential\n",
    "from keras.layers import LSTM\n",
    "from keras.layers import Dense\n",
    "from sklearn.preprocessing import StandardScaler\n",
    "import seaborn as sns\n"
   ]
  },
  {
   "cell_type": "code",
   "execution_count": 98,
   "metadata": {},
   "outputs": [],
   "source": [
    "df= dt.DataReader('^GSPC', 'yahoo', start='1/1/1970')"
   ]
  },
  {
   "cell_type": "code",
   "execution_count": 99,
   "metadata": {},
   "outputs": [],
   "source": [
    "df=df.reset_index()"
   ]
  },
  {
   "cell_type": "code",
   "execution_count": 100,
   "metadata": {},
   "outputs": [],
   "source": [
    "df['Date'] = pd.to_datetime(df['Date'], infer_datetime_format=True)"
   ]
  },
  {
   "cell_type": "code",
   "execution_count": 101,
   "metadata": {},
   "outputs": [
    {
     "name": "stderr",
     "output_type": "stream",
     "text": [
      "c:\\users\\a\\appdata\\local\\programs\\python\\python37\\lib\\site-packages\\ta\\trend.py:768: RuntimeWarning: invalid value encountered in double_scalars\n",
      "  dip[i] = 100 * (self._dip[i] / self._trs[i])\n",
      "c:\\users\\a\\appdata\\local\\programs\\python\\python37\\lib\\site-packages\\ta\\trend.py:772: RuntimeWarning: invalid value encountered in double_scalars\n",
      "  din[i] = 100 * (self._din[i] / self._trs[i])\n"
     ]
    }
   ],
   "source": [
    "import ta\n",
    "f=ta.add_all_ta_features(df, 'Open', 'High', 'Low', 'Close', 'Volume', fillna=True)\n"
   ]
  },
  {
   "cell_type": "code",
   "execution_count": 102,
   "metadata": {},
   "outputs": [
    {
     "data": {
      "text/html": [
       "<div>\n",
       "<style scoped>\n",
       "    .dataframe tbody tr th:only-of-type {\n",
       "        vertical-align: middle;\n",
       "    }\n",
       "\n",
       "    .dataframe tbody tr th {\n",
       "        vertical-align: top;\n",
       "    }\n",
       "\n",
       "    .dataframe thead th {\n",
       "        text-align: right;\n",
       "    }\n",
       "</style>\n",
       "<table border=\"1\" class=\"dataframe\">\n",
       "  <thead>\n",
       "    <tr style=\"text-align: right;\">\n",
       "      <th></th>\n",
       "      <th>Date</th>\n",
       "      <th>High</th>\n",
       "      <th>Low</th>\n",
       "      <th>Open</th>\n",
       "      <th>Close</th>\n",
       "      <th>Volume</th>\n",
       "      <th>Adj Close</th>\n",
       "      <th>volume_adi</th>\n",
       "      <th>volume_obv</th>\n",
       "      <th>volume_cmf</th>\n",
       "      <th>...</th>\n",
       "      <th>momentum_wr</th>\n",
       "      <th>momentum_ao</th>\n",
       "      <th>momentum_kama</th>\n",
       "      <th>momentum_roc</th>\n",
       "      <th>momentum_ppo</th>\n",
       "      <th>momentum_ppo_signal</th>\n",
       "      <th>momentum_ppo_hist</th>\n",
       "      <th>others_dr</th>\n",
       "      <th>others_dlr</th>\n",
       "      <th>others_cr</th>\n",
       "    </tr>\n",
       "  </thead>\n",
       "  <tbody>\n",
       "    <tr>\n",
       "      <th>0</th>\n",
       "      <td>1970-01-02</td>\n",
       "      <td>93.540001</td>\n",
       "      <td>91.790001</td>\n",
       "      <td>0.000000</td>\n",
       "      <td>93.000000</td>\n",
       "      <td>8050000</td>\n",
       "      <td>93.000000</td>\n",
       "      <td>3.081992e+06</td>\n",
       "      <td>8050000</td>\n",
       "      <td>0.382856</td>\n",
       "      <td>...</td>\n",
       "      <td>-30.857195</td>\n",
       "      <td>0.000000</td>\n",
       "      <td>93.000000</td>\n",
       "      <td>0.000000</td>\n",
       "      <td>0.000000</td>\n",
       "      <td>0.000000</td>\n",
       "      <td>0.000000</td>\n",
       "      <td>-89.365366</td>\n",
       "      <td>0.000000</td>\n",
       "      <td>0.000000</td>\n",
       "    </tr>\n",
       "    <tr>\n",
       "      <th>1</th>\n",
       "      <td>1970-01-05</td>\n",
       "      <td>94.250000</td>\n",
       "      <td>92.529999</td>\n",
       "      <td>0.000000</td>\n",
       "      <td>93.459999</td>\n",
       "      <td>11490000</td>\n",
       "      <td>93.459999</td>\n",
       "      <td>4.017219e+06</td>\n",
       "      <td>19540000</td>\n",
       "      <td>0.205590</td>\n",
       "      <td>...</td>\n",
       "      <td>-32.113870</td>\n",
       "      <td>0.000000</td>\n",
       "      <td>93.207225</td>\n",
       "      <td>0.000000</td>\n",
       "      <td>3.304300</td>\n",
       "      <td>0.660860</td>\n",
       "      <td>2.643440</td>\n",
       "      <td>0.494623</td>\n",
       "      <td>0.493403</td>\n",
       "      <td>0.494623</td>\n",
       "    </tr>\n",
       "    <tr>\n",
       "      <th>2</th>\n",
       "      <td>1970-01-06</td>\n",
       "      <td>93.809998</td>\n",
       "      <td>92.129997</td>\n",
       "      <td>0.000000</td>\n",
       "      <td>92.820000</td>\n",
       "      <td>11460000</td>\n",
       "      <td>92.820000</td>\n",
       "      <td>1.970822e+06</td>\n",
       "      <td>8080000</td>\n",
       "      <td>0.063575</td>\n",
       "      <td>...</td>\n",
       "      <td>-58.130115</td>\n",
       "      <td>0.000000</td>\n",
       "      <td>93.034207</td>\n",
       "      <td>0.000000</td>\n",
       "      <td>5.667178</td>\n",
       "      <td>1.662123</td>\n",
       "      <td>4.005054</td>\n",
       "      <td>-0.684784</td>\n",
       "      <td>-0.687140</td>\n",
       "      <td>-0.193549</td>\n",
       "    </tr>\n",
       "    <tr>\n",
       "      <th>3</th>\n",
       "      <td>1970-01-07</td>\n",
       "      <td>93.379997</td>\n",
       "      <td>91.930000</td>\n",
       "      <td>0.000000</td>\n",
       "      <td>92.629997</td>\n",
       "      <td>10010000</td>\n",
       "      <td>92.629997</td>\n",
       "      <td>1.625628e+06</td>\n",
       "      <td>-1930000</td>\n",
       "      <td>0.039640</td>\n",
       "      <td>...</td>\n",
       "      <td>-65.853795</td>\n",
       "      <td>0.000000</td>\n",
       "      <td>92.854220</td>\n",
       "      <td>0.000000</td>\n",
       "      <td>6.092267</td>\n",
       "      <td>2.548152</td>\n",
       "      <td>3.544115</td>\n",
       "      <td>-0.204700</td>\n",
       "      <td>-0.204910</td>\n",
       "      <td>-0.397852</td>\n",
       "    </tr>\n",
       "    <tr>\n",
       "      <th>4</th>\n",
       "      <td>1970-01-08</td>\n",
       "      <td>93.470001</td>\n",
       "      <td>91.989998</td>\n",
       "      <td>0.000000</td>\n",
       "      <td>92.680000</td>\n",
       "      <td>10670000</td>\n",
       "      <td>92.680000</td>\n",
       "      <td>9.046949e+05</td>\n",
       "      <td>8740000</td>\n",
       "      <td>0.017506</td>\n",
       "      <td>...</td>\n",
       "      <td>-63.821150</td>\n",
       "      <td>0.000000</td>\n",
       "      <td>92.777753</td>\n",
       "      <td>0.000000</td>\n",
       "      <td>6.901134</td>\n",
       "      <td>3.418749</td>\n",
       "      <td>3.482386</td>\n",
       "      <td>0.053981</td>\n",
       "      <td>0.053967</td>\n",
       "      <td>-0.344086</td>\n",
       "    </tr>\n",
       "    <tr>\n",
       "      <th>...</th>\n",
       "      <td>...</td>\n",
       "      <td>...</td>\n",
       "      <td>...</td>\n",
       "      <td>...</td>\n",
       "      <td>...</td>\n",
       "      <td>...</td>\n",
       "      <td>...</td>\n",
       "      <td>...</td>\n",
       "      <td>...</td>\n",
       "      <td>...</td>\n",
       "      <td>...</td>\n",
       "      <td>...</td>\n",
       "      <td>...</td>\n",
       "      <td>...</td>\n",
       "      <td>...</td>\n",
       "      <td>...</td>\n",
       "      <td>...</td>\n",
       "      <td>...</td>\n",
       "      <td>...</td>\n",
       "      <td>...</td>\n",
       "      <td>...</td>\n",
       "    </tr>\n",
       "    <tr>\n",
       "      <th>12900</th>\n",
       "      <td>2021-02-23</td>\n",
       "      <td>3895.979980</td>\n",
       "      <td>3805.590088</td>\n",
       "      <td>3857.070068</td>\n",
       "      <td>3881.370117</td>\n",
       "      <td>6280650000</td>\n",
       "      <td>3881.370117</td>\n",
       "      <td>1.954934e+12</td>\n",
       "      <td>1385330470000</td>\n",
       "      <td>0.055274</td>\n",
       "      <td>...</td>\n",
       "      <td>-47.680122</td>\n",
       "      <td>57.976219</td>\n",
       "      <td>3902.994114</td>\n",
       "      <td>0.248729</td>\n",
       "      <td>1.082405</td>\n",
       "      <td>-0.548603</td>\n",
       "      <td>1.631008</td>\n",
       "      <td>0.125632</td>\n",
       "      <td>0.125553</td>\n",
       "      <td>4073.516255</td>\n",
       "    </tr>\n",
       "    <tr>\n",
       "      <th>12901</th>\n",
       "      <td>2021-02-24</td>\n",
       "      <td>3928.649902</td>\n",
       "      <td>3859.600098</td>\n",
       "      <td>3873.709961</td>\n",
       "      <td>3925.429932</td>\n",
       "      <td>5942350000</td>\n",
       "      <td>3925.429932</td>\n",
       "      <td>1.960323e+12</td>\n",
       "      <td>1391272820000</td>\n",
       "      <td>0.151259</td>\n",
       "      <td>...</td>\n",
       "      <td>-17.260444</td>\n",
       "      <td>48.171482</td>\n",
       "      <td>3903.364788</td>\n",
       "      <td>0.993093</td>\n",
       "      <td>2.075093</td>\n",
       "      <td>-0.023864</td>\n",
       "      <td>2.098957</td>\n",
       "      <td>1.135161</td>\n",
       "      <td>1.128767</td>\n",
       "      <td>4120.892400</td>\n",
       "    </tr>\n",
       "    <tr>\n",
       "      <th>12902</th>\n",
       "      <td>2021-02-25</td>\n",
       "      <td>3925.020020</td>\n",
       "      <td>3814.040039</td>\n",
       "      <td>3915.800049</td>\n",
       "      <td>3829.340088</td>\n",
       "      <td>6513060000</td>\n",
       "      <td>3829.340088</td>\n",
       "      <td>1.955605e+12</td>\n",
       "      <td>1384759760000</td>\n",
       "      <td>0.172152</td>\n",
       "      <td>...</td>\n",
       "      <td>-83.602578</td>\n",
       "      <td>37.690018</td>\n",
       "      <td>3897.687281</td>\n",
       "      <td>-2.202733</td>\n",
       "      <td>3.642464</td>\n",
       "      <td>0.709402</td>\n",
       "      <td>2.933063</td>\n",
       "      <td>-2.447881</td>\n",
       "      <td>-2.478339</td>\n",
       "      <td>4017.569987</td>\n",
       "    </tr>\n",
       "    <tr>\n",
       "      <th>12903</th>\n",
       "      <td>2021-02-26</td>\n",
       "      <td>3861.080078</td>\n",
       "      <td>3789.540039</td>\n",
       "      <td>3839.659912</td>\n",
       "      <td>3811.149902</td>\n",
       "      <td>6512950000</td>\n",
       "      <td>3811.149902</td>\n",
       "      <td>1.953027e+12</td>\n",
       "      <td>1378246810000</td>\n",
       "      <td>0.158478</td>\n",
       "      <td>...</td>\n",
       "      <td>-86.568539</td>\n",
       "      <td>18.310500</td>\n",
       "      <td>3888.346294</td>\n",
       "      <td>-2.558788</td>\n",
       "      <td>4.778945</td>\n",
       "      <td>1.523310</td>\n",
       "      <td>3.255634</td>\n",
       "      <td>-0.475021</td>\n",
       "      <td>-0.476153</td>\n",
       "      <td>3998.010648</td>\n",
       "    </tr>\n",
       "    <tr>\n",
       "      <th>12904</th>\n",
       "      <td>2021-03-01</td>\n",
       "      <td>3914.500000</td>\n",
       "      <td>3842.510010</td>\n",
       "      <td>3842.510010</td>\n",
       "      <td>3901.820068</td>\n",
       "      <td>2396462084</td>\n",
       "      <td>3901.820068</td>\n",
       "      <td>1.954579e+12</td>\n",
       "      <td>1380643272084</td>\n",
       "      <td>0.214548</td>\n",
       "      <td>...</td>\n",
       "      <td>-30.213124</td>\n",
       "      <td>14.090866</td>\n",
       "      <td>3888.567675</td>\n",
       "      <td>-0.206140</td>\n",
       "      <td>-0.420458</td>\n",
       "      <td>1.134557</td>\n",
       "      <td>-1.555015</td>\n",
       "      <td>2.379076</td>\n",
       "      <td>2.351217</td>\n",
       "      <td>4095.505450</td>\n",
       "    </tr>\n",
       "  </tbody>\n",
       "</table>\n",
       "<p>12905 rows × 90 columns</p>\n",
       "</div>"
      ],
      "text/plain": [
       "            Date         High          Low         Open        Close  \\\n",
       "0     1970-01-02    93.540001    91.790001     0.000000    93.000000   \n",
       "1     1970-01-05    94.250000    92.529999     0.000000    93.459999   \n",
       "2     1970-01-06    93.809998    92.129997     0.000000    92.820000   \n",
       "3     1970-01-07    93.379997    91.930000     0.000000    92.629997   \n",
       "4     1970-01-08    93.470001    91.989998     0.000000    92.680000   \n",
       "...          ...          ...          ...          ...          ...   \n",
       "12900 2021-02-23  3895.979980  3805.590088  3857.070068  3881.370117   \n",
       "12901 2021-02-24  3928.649902  3859.600098  3873.709961  3925.429932   \n",
       "12902 2021-02-25  3925.020020  3814.040039  3915.800049  3829.340088   \n",
       "12903 2021-02-26  3861.080078  3789.540039  3839.659912  3811.149902   \n",
       "12904 2021-03-01  3914.500000  3842.510010  3842.510010  3901.820068   \n",
       "\n",
       "           Volume    Adj Close    volume_adi     volume_obv  volume_cmf  ...  \\\n",
       "0         8050000    93.000000  3.081992e+06        8050000    0.382856  ...   \n",
       "1        11490000    93.459999  4.017219e+06       19540000    0.205590  ...   \n",
       "2        11460000    92.820000  1.970822e+06        8080000    0.063575  ...   \n",
       "3        10010000    92.629997  1.625628e+06       -1930000    0.039640  ...   \n",
       "4        10670000    92.680000  9.046949e+05        8740000    0.017506  ...   \n",
       "...           ...          ...           ...            ...         ...  ...   \n",
       "12900  6280650000  3881.370117  1.954934e+12  1385330470000    0.055274  ...   \n",
       "12901  5942350000  3925.429932  1.960323e+12  1391272820000    0.151259  ...   \n",
       "12902  6513060000  3829.340088  1.955605e+12  1384759760000    0.172152  ...   \n",
       "12903  6512950000  3811.149902  1.953027e+12  1378246810000    0.158478  ...   \n",
       "12904  2396462084  3901.820068  1.954579e+12  1380643272084    0.214548  ...   \n",
       "\n",
       "       momentum_wr  momentum_ao  momentum_kama  momentum_roc  momentum_ppo  \\\n",
       "0       -30.857195     0.000000      93.000000      0.000000      0.000000   \n",
       "1       -32.113870     0.000000      93.207225      0.000000      3.304300   \n",
       "2       -58.130115     0.000000      93.034207      0.000000      5.667178   \n",
       "3       -65.853795     0.000000      92.854220      0.000000      6.092267   \n",
       "4       -63.821150     0.000000      92.777753      0.000000      6.901134   \n",
       "...            ...          ...            ...           ...           ...   \n",
       "12900   -47.680122    57.976219    3902.994114      0.248729      1.082405   \n",
       "12901   -17.260444    48.171482    3903.364788      0.993093      2.075093   \n",
       "12902   -83.602578    37.690018    3897.687281     -2.202733      3.642464   \n",
       "12903   -86.568539    18.310500    3888.346294     -2.558788      4.778945   \n",
       "12904   -30.213124    14.090866    3888.567675     -0.206140     -0.420458   \n",
       "\n",
       "       momentum_ppo_signal  momentum_ppo_hist  others_dr  others_dlr  \\\n",
       "0                 0.000000           0.000000 -89.365366    0.000000   \n",
       "1                 0.660860           2.643440   0.494623    0.493403   \n",
       "2                 1.662123           4.005054  -0.684784   -0.687140   \n",
       "3                 2.548152           3.544115  -0.204700   -0.204910   \n",
       "4                 3.418749           3.482386   0.053981    0.053967   \n",
       "...                    ...                ...        ...         ...   \n",
       "12900            -0.548603           1.631008   0.125632    0.125553   \n",
       "12901            -0.023864           2.098957   1.135161    1.128767   \n",
       "12902             0.709402           2.933063  -2.447881   -2.478339   \n",
       "12903             1.523310           3.255634  -0.475021   -0.476153   \n",
       "12904             1.134557          -1.555015   2.379076    2.351217   \n",
       "\n",
       "         others_cr  \n",
       "0         0.000000  \n",
       "1         0.494623  \n",
       "2        -0.193549  \n",
       "3        -0.397852  \n",
       "4        -0.344086  \n",
       "...            ...  \n",
       "12900  4073.516255  \n",
       "12901  4120.892400  \n",
       "12902  4017.569987  \n",
       "12903  3998.010648  \n",
       "12904  4095.505450  \n",
       "\n",
       "[12905 rows x 90 columns]"
      ]
     },
     "execution_count": 102,
     "metadata": {},
     "output_type": "execute_result"
    }
   ],
   "source": [
    "f"
   ]
  },
  {
   "cell_type": "code",
   "execution_count": 103,
   "metadata": {},
   "outputs": [],
   "source": [
    "# #RSI\n",
    "# df['RSI']=talib.RSI(df['Close'],timeperiod=15)\n",
    "# #MACD\n",
    "# df['MACD'], df['MACD SIGNAL'], df['MACD HIST'] = talib.MACD(df['Close'], fastperiod=12, slowperiod=26, signalperiod=9)\n",
    "# #MFI\n",
    "# df['MFI'] = talib.MFI(df['High'], df['Low'], df['Close'], df['Volume'], timeperiod=14)\n",
    "# #Momentum\n",
    "# df['Momentum'] = talib.MOM(df['Close'], timeperiod=10)\n",
    "# # Bollinger band\n",
    "# df['upper bol'], df['middle bol'], df['lower bol'] = talib.BBANDS(df['Close'], timeperiod=5, nbdevup=2, nbdevdn=2, matype=0)\n",
    "# #OBV\n",
    "# df['OBV'] = talib.OBV(df['Close'], df['Volume'])\n",
    "# #Hammer\n",
    "# df['Hammer candle'] = talib.CDLHAMMER(df['Open'], df['High'],df['Low'], df['Close'])\n",
    "# #hilberts dominant cycle\n",
    "# df['Hil_tran_dom_cycle']=talib.HT_DCPERIOD(df['Close'])\n",
    "# #inverted hammer\n",
    "# df['Inverted Hammer candle'] = talib.CDLINVERTEDHAMMER(df['Open'], df['High'],df['Low'], df['Close'])"
   ]
  },
  {
   "cell_type": "code",
   "execution_count": 104,
   "metadata": {},
   "outputs": [
    {
     "data": {
      "text/html": [
       "<div>\n",
       "<style scoped>\n",
       "    .dataframe tbody tr th:only-of-type {\n",
       "        vertical-align: middle;\n",
       "    }\n",
       "\n",
       "    .dataframe tbody tr th {\n",
       "        vertical-align: top;\n",
       "    }\n",
       "\n",
       "    .dataframe thead th {\n",
       "        text-align: right;\n",
       "    }\n",
       "</style>\n",
       "<table border=\"1\" class=\"dataframe\">\n",
       "  <thead>\n",
       "    <tr style=\"text-align: right;\">\n",
       "      <th></th>\n",
       "      <th>Date</th>\n",
       "      <th>High</th>\n",
       "      <th>Low</th>\n",
       "      <th>Open</th>\n",
       "      <th>Close</th>\n",
       "      <th>Volume</th>\n",
       "      <th>Adj Close</th>\n",
       "      <th>volume_adi</th>\n",
       "      <th>volume_obv</th>\n",
       "      <th>volume_cmf</th>\n",
       "      <th>...</th>\n",
       "      <th>momentum_wr</th>\n",
       "      <th>momentum_ao</th>\n",
       "      <th>momentum_kama</th>\n",
       "      <th>momentum_roc</th>\n",
       "      <th>momentum_ppo</th>\n",
       "      <th>momentum_ppo_signal</th>\n",
       "      <th>momentum_ppo_hist</th>\n",
       "      <th>others_dr</th>\n",
       "      <th>others_dlr</th>\n",
       "      <th>others_cr</th>\n",
       "    </tr>\n",
       "  </thead>\n",
       "  <tbody>\n",
       "    <tr>\n",
       "      <th>0</th>\n",
       "      <td>1970-01-02</td>\n",
       "      <td>93.540001</td>\n",
       "      <td>91.790001</td>\n",
       "      <td>0.000000</td>\n",
       "      <td>93.000000</td>\n",
       "      <td>8050000</td>\n",
       "      <td>93.000000</td>\n",
       "      <td>3.081992e+06</td>\n",
       "      <td>8050000</td>\n",
       "      <td>0.382856</td>\n",
       "      <td>...</td>\n",
       "      <td>-30.857195</td>\n",
       "      <td>0.000000</td>\n",
       "      <td>93.000000</td>\n",
       "      <td>0.000000</td>\n",
       "      <td>0.000000</td>\n",
       "      <td>0.000000</td>\n",
       "      <td>0.000000</td>\n",
       "      <td>-89.365366</td>\n",
       "      <td>0.000000</td>\n",
       "      <td>0.000000</td>\n",
       "    </tr>\n",
       "    <tr>\n",
       "      <th>1</th>\n",
       "      <td>1970-01-05</td>\n",
       "      <td>94.250000</td>\n",
       "      <td>92.529999</td>\n",
       "      <td>0.000000</td>\n",
       "      <td>93.459999</td>\n",
       "      <td>11490000</td>\n",
       "      <td>93.459999</td>\n",
       "      <td>4.017219e+06</td>\n",
       "      <td>19540000</td>\n",
       "      <td>0.205590</td>\n",
       "      <td>...</td>\n",
       "      <td>-32.113870</td>\n",
       "      <td>0.000000</td>\n",
       "      <td>93.207225</td>\n",
       "      <td>0.000000</td>\n",
       "      <td>3.304300</td>\n",
       "      <td>0.660860</td>\n",
       "      <td>2.643440</td>\n",
       "      <td>0.494623</td>\n",
       "      <td>0.493403</td>\n",
       "      <td>0.494623</td>\n",
       "    </tr>\n",
       "    <tr>\n",
       "      <th>2</th>\n",
       "      <td>1970-01-06</td>\n",
       "      <td>93.809998</td>\n",
       "      <td>92.129997</td>\n",
       "      <td>0.000000</td>\n",
       "      <td>92.820000</td>\n",
       "      <td>11460000</td>\n",
       "      <td>92.820000</td>\n",
       "      <td>1.970822e+06</td>\n",
       "      <td>8080000</td>\n",
       "      <td>0.063575</td>\n",
       "      <td>...</td>\n",
       "      <td>-58.130115</td>\n",
       "      <td>0.000000</td>\n",
       "      <td>93.034207</td>\n",
       "      <td>0.000000</td>\n",
       "      <td>5.667178</td>\n",
       "      <td>1.662123</td>\n",
       "      <td>4.005054</td>\n",
       "      <td>-0.684784</td>\n",
       "      <td>-0.687140</td>\n",
       "      <td>-0.193549</td>\n",
       "    </tr>\n",
       "    <tr>\n",
       "      <th>3</th>\n",
       "      <td>1970-01-07</td>\n",
       "      <td>93.379997</td>\n",
       "      <td>91.930000</td>\n",
       "      <td>0.000000</td>\n",
       "      <td>92.629997</td>\n",
       "      <td>10010000</td>\n",
       "      <td>92.629997</td>\n",
       "      <td>1.625628e+06</td>\n",
       "      <td>-1930000</td>\n",
       "      <td>0.039640</td>\n",
       "      <td>...</td>\n",
       "      <td>-65.853795</td>\n",
       "      <td>0.000000</td>\n",
       "      <td>92.854220</td>\n",
       "      <td>0.000000</td>\n",
       "      <td>6.092267</td>\n",
       "      <td>2.548152</td>\n",
       "      <td>3.544115</td>\n",
       "      <td>-0.204700</td>\n",
       "      <td>-0.204910</td>\n",
       "      <td>-0.397852</td>\n",
       "    </tr>\n",
       "    <tr>\n",
       "      <th>4</th>\n",
       "      <td>1970-01-08</td>\n",
       "      <td>93.470001</td>\n",
       "      <td>91.989998</td>\n",
       "      <td>0.000000</td>\n",
       "      <td>92.680000</td>\n",
       "      <td>10670000</td>\n",
       "      <td>92.680000</td>\n",
       "      <td>9.046949e+05</td>\n",
       "      <td>8740000</td>\n",
       "      <td>0.017506</td>\n",
       "      <td>...</td>\n",
       "      <td>-63.821150</td>\n",
       "      <td>0.000000</td>\n",
       "      <td>92.777753</td>\n",
       "      <td>0.000000</td>\n",
       "      <td>6.901134</td>\n",
       "      <td>3.418749</td>\n",
       "      <td>3.482386</td>\n",
       "      <td>0.053981</td>\n",
       "      <td>0.053967</td>\n",
       "      <td>-0.344086</td>\n",
       "    </tr>\n",
       "    <tr>\n",
       "      <th>...</th>\n",
       "      <td>...</td>\n",
       "      <td>...</td>\n",
       "      <td>...</td>\n",
       "      <td>...</td>\n",
       "      <td>...</td>\n",
       "      <td>...</td>\n",
       "      <td>...</td>\n",
       "      <td>...</td>\n",
       "      <td>...</td>\n",
       "      <td>...</td>\n",
       "      <td>...</td>\n",
       "      <td>...</td>\n",
       "      <td>...</td>\n",
       "      <td>...</td>\n",
       "      <td>...</td>\n",
       "      <td>...</td>\n",
       "      <td>...</td>\n",
       "      <td>...</td>\n",
       "      <td>...</td>\n",
       "      <td>...</td>\n",
       "      <td>...</td>\n",
       "    </tr>\n",
       "    <tr>\n",
       "      <th>12900</th>\n",
       "      <td>2021-02-23</td>\n",
       "      <td>3895.979980</td>\n",
       "      <td>3805.590088</td>\n",
       "      <td>3857.070068</td>\n",
       "      <td>3881.370117</td>\n",
       "      <td>6280650000</td>\n",
       "      <td>3881.370117</td>\n",
       "      <td>1.954934e+12</td>\n",
       "      <td>1385330470000</td>\n",
       "      <td>0.055274</td>\n",
       "      <td>...</td>\n",
       "      <td>-47.680122</td>\n",
       "      <td>57.976219</td>\n",
       "      <td>3902.994114</td>\n",
       "      <td>0.248729</td>\n",
       "      <td>1.082405</td>\n",
       "      <td>-0.548603</td>\n",
       "      <td>1.631008</td>\n",
       "      <td>0.125632</td>\n",
       "      <td>0.125553</td>\n",
       "      <td>4073.516255</td>\n",
       "    </tr>\n",
       "    <tr>\n",
       "      <th>12901</th>\n",
       "      <td>2021-02-24</td>\n",
       "      <td>3928.649902</td>\n",
       "      <td>3859.600098</td>\n",
       "      <td>3873.709961</td>\n",
       "      <td>3925.429932</td>\n",
       "      <td>5942350000</td>\n",
       "      <td>3925.429932</td>\n",
       "      <td>1.960323e+12</td>\n",
       "      <td>1391272820000</td>\n",
       "      <td>0.151259</td>\n",
       "      <td>...</td>\n",
       "      <td>-17.260444</td>\n",
       "      <td>48.171482</td>\n",
       "      <td>3903.364788</td>\n",
       "      <td>0.993093</td>\n",
       "      <td>2.075093</td>\n",
       "      <td>-0.023864</td>\n",
       "      <td>2.098957</td>\n",
       "      <td>1.135161</td>\n",
       "      <td>1.128767</td>\n",
       "      <td>4120.892400</td>\n",
       "    </tr>\n",
       "    <tr>\n",
       "      <th>12902</th>\n",
       "      <td>2021-02-25</td>\n",
       "      <td>3925.020020</td>\n",
       "      <td>3814.040039</td>\n",
       "      <td>3915.800049</td>\n",
       "      <td>3829.340088</td>\n",
       "      <td>6513060000</td>\n",
       "      <td>3829.340088</td>\n",
       "      <td>1.955605e+12</td>\n",
       "      <td>1384759760000</td>\n",
       "      <td>0.172152</td>\n",
       "      <td>...</td>\n",
       "      <td>-83.602578</td>\n",
       "      <td>37.690018</td>\n",
       "      <td>3897.687281</td>\n",
       "      <td>-2.202733</td>\n",
       "      <td>3.642464</td>\n",
       "      <td>0.709402</td>\n",
       "      <td>2.933063</td>\n",
       "      <td>-2.447881</td>\n",
       "      <td>-2.478339</td>\n",
       "      <td>4017.569987</td>\n",
       "    </tr>\n",
       "    <tr>\n",
       "      <th>12903</th>\n",
       "      <td>2021-02-26</td>\n",
       "      <td>3861.080078</td>\n",
       "      <td>3789.540039</td>\n",
       "      <td>3839.659912</td>\n",
       "      <td>3811.149902</td>\n",
       "      <td>6512950000</td>\n",
       "      <td>3811.149902</td>\n",
       "      <td>1.953027e+12</td>\n",
       "      <td>1378246810000</td>\n",
       "      <td>0.158478</td>\n",
       "      <td>...</td>\n",
       "      <td>-86.568539</td>\n",
       "      <td>18.310500</td>\n",
       "      <td>3888.346294</td>\n",
       "      <td>-2.558788</td>\n",
       "      <td>4.778945</td>\n",
       "      <td>1.523310</td>\n",
       "      <td>3.255634</td>\n",
       "      <td>-0.475021</td>\n",
       "      <td>-0.476153</td>\n",
       "      <td>3998.010648</td>\n",
       "    </tr>\n",
       "    <tr>\n",
       "      <th>12904</th>\n",
       "      <td>2021-03-01</td>\n",
       "      <td>3914.500000</td>\n",
       "      <td>3842.510010</td>\n",
       "      <td>3842.510010</td>\n",
       "      <td>3901.820068</td>\n",
       "      <td>2396462084</td>\n",
       "      <td>3901.820068</td>\n",
       "      <td>1.954579e+12</td>\n",
       "      <td>1380643272084</td>\n",
       "      <td>0.214548</td>\n",
       "      <td>...</td>\n",
       "      <td>-30.213124</td>\n",
       "      <td>14.090866</td>\n",
       "      <td>3888.567675</td>\n",
       "      <td>-0.206140</td>\n",
       "      <td>-0.420458</td>\n",
       "      <td>1.134557</td>\n",
       "      <td>-1.555015</td>\n",
       "      <td>2.379076</td>\n",
       "      <td>2.351217</td>\n",
       "      <td>4095.505450</td>\n",
       "    </tr>\n",
       "  </tbody>\n",
       "</table>\n",
       "<p>12905 rows × 90 columns</p>\n",
       "</div>"
      ],
      "text/plain": [
       "            Date         High          Low         Open        Close  \\\n",
       "0     1970-01-02    93.540001    91.790001     0.000000    93.000000   \n",
       "1     1970-01-05    94.250000    92.529999     0.000000    93.459999   \n",
       "2     1970-01-06    93.809998    92.129997     0.000000    92.820000   \n",
       "3     1970-01-07    93.379997    91.930000     0.000000    92.629997   \n",
       "4     1970-01-08    93.470001    91.989998     0.000000    92.680000   \n",
       "...          ...          ...          ...          ...          ...   \n",
       "12900 2021-02-23  3895.979980  3805.590088  3857.070068  3881.370117   \n",
       "12901 2021-02-24  3928.649902  3859.600098  3873.709961  3925.429932   \n",
       "12902 2021-02-25  3925.020020  3814.040039  3915.800049  3829.340088   \n",
       "12903 2021-02-26  3861.080078  3789.540039  3839.659912  3811.149902   \n",
       "12904 2021-03-01  3914.500000  3842.510010  3842.510010  3901.820068   \n",
       "\n",
       "           Volume    Adj Close    volume_adi     volume_obv  volume_cmf  ...  \\\n",
       "0         8050000    93.000000  3.081992e+06        8050000    0.382856  ...   \n",
       "1        11490000    93.459999  4.017219e+06       19540000    0.205590  ...   \n",
       "2        11460000    92.820000  1.970822e+06        8080000    0.063575  ...   \n",
       "3        10010000    92.629997  1.625628e+06       -1930000    0.039640  ...   \n",
       "4        10670000    92.680000  9.046949e+05        8740000    0.017506  ...   \n",
       "...           ...          ...           ...            ...         ...  ...   \n",
       "12900  6280650000  3881.370117  1.954934e+12  1385330470000    0.055274  ...   \n",
       "12901  5942350000  3925.429932  1.960323e+12  1391272820000    0.151259  ...   \n",
       "12902  6513060000  3829.340088  1.955605e+12  1384759760000    0.172152  ...   \n",
       "12903  6512950000  3811.149902  1.953027e+12  1378246810000    0.158478  ...   \n",
       "12904  2396462084  3901.820068  1.954579e+12  1380643272084    0.214548  ...   \n",
       "\n",
       "       momentum_wr  momentum_ao  momentum_kama  momentum_roc  momentum_ppo  \\\n",
       "0       -30.857195     0.000000      93.000000      0.000000      0.000000   \n",
       "1       -32.113870     0.000000      93.207225      0.000000      3.304300   \n",
       "2       -58.130115     0.000000      93.034207      0.000000      5.667178   \n",
       "3       -65.853795     0.000000      92.854220      0.000000      6.092267   \n",
       "4       -63.821150     0.000000      92.777753      0.000000      6.901134   \n",
       "...            ...          ...            ...           ...           ...   \n",
       "12900   -47.680122    57.976219    3902.994114      0.248729      1.082405   \n",
       "12901   -17.260444    48.171482    3903.364788      0.993093      2.075093   \n",
       "12902   -83.602578    37.690018    3897.687281     -2.202733      3.642464   \n",
       "12903   -86.568539    18.310500    3888.346294     -2.558788      4.778945   \n",
       "12904   -30.213124    14.090866    3888.567675     -0.206140     -0.420458   \n",
       "\n",
       "       momentum_ppo_signal  momentum_ppo_hist  others_dr  others_dlr  \\\n",
       "0                 0.000000           0.000000 -89.365366    0.000000   \n",
       "1                 0.660860           2.643440   0.494623    0.493403   \n",
       "2                 1.662123           4.005054  -0.684784   -0.687140   \n",
       "3                 2.548152           3.544115  -0.204700   -0.204910   \n",
       "4                 3.418749           3.482386   0.053981    0.053967   \n",
       "...                    ...                ...        ...         ...   \n",
       "12900            -0.548603           1.631008   0.125632    0.125553   \n",
       "12901            -0.023864           2.098957   1.135161    1.128767   \n",
       "12902             0.709402           2.933063  -2.447881   -2.478339   \n",
       "12903             1.523310           3.255634  -0.475021   -0.476153   \n",
       "12904             1.134557          -1.555015   2.379076    2.351217   \n",
       "\n",
       "         others_cr  \n",
       "0         0.000000  \n",
       "1         0.494623  \n",
       "2        -0.193549  \n",
       "3        -0.397852  \n",
       "4        -0.344086  \n",
       "...            ...  \n",
       "12900  4073.516255  \n",
       "12901  4120.892400  \n",
       "12902  4017.569987  \n",
       "12903  3998.010648  \n",
       "12904  4095.505450  \n",
       "\n",
       "[12905 rows x 90 columns]"
      ]
     },
     "execution_count": 104,
     "metadata": {},
     "output_type": "execute_result"
    }
   ],
   "source": [
    "df=f.dropna()\n",
    "df"
   ]
  },
  {
   "cell_type": "code",
   "execution_count": 145,
   "metadata": {},
   "outputs": [
    {
     "data": {
      "text/plain": [
       "array([<matplotlib.axes._subplots.AxesSubplot object at 0x00000000461E35C0>,\n",
       "       <matplotlib.axes._subplots.AxesSubplot object at 0x00000000461D3FD0>,\n",
       "       <matplotlib.axes._subplots.AxesSubplot object at 0x0000000046184128>,\n",
       "       <matplotlib.axes._subplots.AxesSubplot object at 0x000000004ACB5588>,\n",
       "       <matplotlib.axes._subplots.AxesSubplot object at 0x000000004ACE69E8>,\n",
       "       <matplotlib.axes._subplots.AxesSubplot object at 0x000000004AD19E48>,\n",
       "       <matplotlib.axes._subplots.AxesSubplot object at 0x000000004AD552E8>,\n",
       "       <matplotlib.axes._subplots.AxesSubplot object at 0x000000004AD88748>,\n",
       "       <matplotlib.axes._subplots.AxesSubplot object at 0x000000004AD88780>,\n",
       "       <matplotlib.axes._subplots.AxesSubplot object at 0x000000004ADEFFD0>,\n",
       "       <matplotlib.axes._subplots.AxesSubplot object at 0x000000004AE2C470>,\n",
       "       <matplotlib.axes._subplots.AxesSubplot object at 0x000000004AE5A8D0>,\n",
       "       <matplotlib.axes._subplots.AxesSubplot object at 0x000000004AE90D30>,\n",
       "       <matplotlib.axes._subplots.AxesSubplot object at 0x000000004AECE1D0>,\n",
       "       <matplotlib.axes._subplots.AxesSubplot object at 0x000000004AF02630>,\n",
       "       <matplotlib.axes._subplots.AxesSubplot object at 0x000000004AF31A90>,\n",
       "       <matplotlib.axes._subplots.AxesSubplot object at 0x000000004B0C7EF0>],\n",
       "      dtype=object)"
      ]
     },
     "execution_count": 145,
     "metadata": {},
     "output_type": "execute_result"
    },
    {
     "data": {
      "image/png": "[encoded data removed]",
      "text/plain": [
       "<Figure size 720x1152 with 17 Axes>"
      ]
     },
     "metadata": {
      "needs_background": "light"
     },
     "output_type": "display_data"
    }
   ],
   "source": [
    "import matplotlib as mpl\n",
    "mpl.rcParams['figure.figsize']=(10, 16)\n",
    "mpl.rcParams['axes.grid']=False\n",
    "df[['High', 'Low','Open','Close','Volume','Adj Close','RSI','MACD HIST','MFI','Momentum','upper bol','middle bol','lower bol','OBV','Hammer candle','Hil_tran_dom_cycle','Inverted Hammer candle']].plot(subplots=True)"
   ]
  },
  {
   "cell_type": "code",
   "execution_count": 98,
   "metadata": {},
   "outputs": [],
   "source": [
    "# df['Target']= np.where(df['Close'].shift(-1)> df['Close'],1,0)\n",
    "# df"
   ]
  },
  {
   "cell_type": "code",
   "execution_count": 9,
   "metadata": {},
   "outputs": [],
   "source": [
    "# #extract the dates\n",
    "# train_dates=pd.to_datetime(df.index)\n"
   ]
  },
  {
   "cell_type": "code",
   "execution_count": 39,
   "metadata": {},
   "outputs": [],
   "source": [
    "#variables for training\n",
    "cols= list(df)[1:90]"
   ]
  },
  {
   "cell_type": "code",
   "execution_count": 40,
   "metadata": {},
   "outputs": [],
   "source": [
    "df_for_training= df[cols].astype(float)"
   ]
  },
  {
   "cell_type": "code",
   "execution_count": 174,
   "metadata": {},
   "outputs": [
    {
     "data": {
      "text/plain": [
       "12905"
      ]
     },
     "execution_count": 174,
     "metadata": {},
     "output_type": "execute_result"
    }
   ],
   "source": [
    "len(df_for_training)"
   ]
  },
  {
   "cell_type": "code",
   "execution_count": 207,
   "metadata": {},
   "outputs": [],
   "source": [
    "#Normalizing the data\n",
    "\n",
    "# scaler=MinMaxScaler()\n",
    "scaler=StandardScaler()\n",
    "scaler=scaler.fit(df_for_training)\n",
    "df_for_training_scaled= scaler.transform(df_for_training)"
   ]
  },
  {
   "cell_type": "code",
   "execution_count": 243,
   "metadata": {},
   "outputs": [],
   "source": [
    "train_x=[]\n",
    "train_y=[]\n",
    "\n",
    "n_future=1\n",
    "n_past=60# window"
   ]
  },
  {
   "cell_type": "code",
   "execution_count": 244,
   "metadata": {},
   "outputs": [],
   "source": [
    "for i in range(n_past, len(df_for_training) - n_future+1):\n",
    "    train_x.append(df_for_training_scaled[i-n_past:i, 0:df_for_training.shape[1]])\n",
    "    train_y.append(df_for_training_scaled[i+n_future-1: i+n_future,5])"
   ]
  },
  {
   "cell_type": "code",
   "execution_count": 245,
   "metadata": {},
   "outputs": [],
   "source": [
    "import numpy as np\n",
    "train_x, train_y= np.array(train_x),np.array(train_y)"
   ]
  },
  {
   "cell_type": "code",
   "execution_count": 246,
   "metadata": {},
   "outputs": [
    {
     "name": "stdout",
     "output_type": "stream",
     "text": [
      "train x shape == (12845, 60, 89)\n",
      "train y shape == (12845, 1)\n"
     ]
    }
   ],
   "source": [
    "print('train x shape == {}'.format(train_x.shape))\n",
    "print('train y shape == {}'.format(train_y.shape))"
   ]
  },
  {
   "cell_type": "markdown",
   "metadata": {},
   "source": [
    "# Model"
   ]
  },
  {
   "cell_type": "code",
   "execution_count": 247,
   "metadata": {},
   "outputs": [
    {
     "name": "stdout",
     "output_type": "stream",
     "text": [
      "Model: \"sequential_3\"\n",
      "_________________________________________________________________\n",
      "Layer (type)                 Output Shape              Param #   \n",
      "=================================================================\n",
      "lstm_9 (LSTM)                (None, 60, 128)           111616    \n",
      "_________________________________________________________________\n",
      "leaky_re_lu_6 (LeakyReLU)    (None, 60, 128)           0         \n",
      "_________________________________________________________________\n",
      "lstm_10 (LSTM)               (None, 60, 128)           131584    \n",
      "_________________________________________________________________\n",
      "leaky_re_lu_7 (LeakyReLU)    (None, 60, 128)           0         \n",
      "_________________________________________________________________\n",
      "dropout_6 (Dropout)          (None, 60, 128)           0         \n",
      "_________________________________________________________________\n",
      "lstm_11 (LSTM)               (None, 64)                49408     \n",
      "_________________________________________________________________\n",
      "dropout_7 (Dropout)          (None, 64)                0         \n",
      "_________________________________________________________________\n",
      "dense_3 (Dense)              (None, 1)                 65        \n",
      "=================================================================\n",
      "Total params: 292,673\n",
      "Trainable params: 292,673\n",
      "Non-trainable params: 0\n",
      "_________________________________________________________________\n"
     ]
    }
   ],
   "source": [
    "# model=Sequential()\n",
    "# model.add(LSTM(64, activation='relu', input_shape=(train_x.shape[1], train_x.shape[2]), return_sequences=True))\n",
    "# model.add(LSTM(32, activation='relu', return_sequences=False))\n",
    "# model.add(Dropout(0.2))\n",
    "# model.add(Dense(train_y.shape[1]))\n",
    "\n",
    "# model= tf.keras.models.Sequential([\n",
    "#     tf.keras.layers.LSTM(64, activation='relu', input_shape=(train_x.shape[1], train_x.shape[2]), return_sequences=True),\n",
    "#     tf.keras.layers.LSTM(32, activation='relu', return_sequences=False),\n",
    "#     tf.keras.layers.Dropout(0.2),\n",
    "#     tf.keras.layers.Dense(train_y.shape[1])\n",
    "# ])\n",
    "\n",
    "# model.compile(optimizer='adam', loss='mse', metrics=['acc'])\n",
    "# model.summary()\n",
    "\n",
    "model = tf.keras.Sequential()\n",
    "# model.add(tf.keras.layers.Conv1D(128, 150, input_shape= (win_length, num_features)))\n",
    "model.add(tf.keras.layers.LSTM(128, input_shape= (train_x.shape[1], train_x.shape[2]), return_sequences=True))\n",
    "model.add(tf.keras.layers.LeakyReLU(alpha=0.5)) \n",
    "model.add(tf.keras.layers.LSTM(128, return_sequences=True))\n",
    "model.add(tf.keras.layers.LeakyReLU(alpha=0.5)) \n",
    "model.add(tf.keras.layers.Dropout(0.3)) \n",
    "model.add(tf.keras.layers.LSTM(64, return_sequences=False))\n",
    "model.add(tf.keras.layers.Dropout(0.3)) \n",
    "model.add(tf.keras.layers.Dense(1))\n",
    "model.summary()"
   ]
  },
  {
   "cell_type": "code",
   "execution_count": 248,
   "metadata": {
    "scrolled": true
   },
   "outputs": [
    {
     "name": "stdout",
     "output_type": "stream",
     "text": [
      "Epoch 1/25\n",
      "402/402 [==============================] - 62s 137ms/step - loss: 0.0346 - mean_absolute_error: 0.1262\n",
      "WARNING:tensorflow:Early stopping conditioned on metric `val_loss` which is not available. Available metrics are: loss,mean_absolute_error\n",
      "Epoch 2/25\n",
      "402/402 [==============================] - 60s 149ms/step - loss: 0.0590 - mean_absolute_error: 0.1388\n",
      "WARNING:tensorflow:Early stopping conditioned on metric `val_loss` which is not available. Available metrics are: loss,mean_absolute_error\n",
      "Epoch 3/25\n",
      "402/402 [==============================] - 51s 126ms/step - loss: 0.6978 - mean_absolute_error: 0.4542\n",
      "WARNING:tensorflow:Early stopping conditioned on metric `val_loss` which is not available. Available metrics are: loss,mean_absolute_error\n",
      "Epoch 4/25\n",
      "402/402 [==============================] - 52s 129ms/step - loss: 0.2045 - mean_absolute_error: 0.2942\n",
      "WARNING:tensorflow:Early stopping conditioned on metric `val_loss` which is not available. Available metrics are: loss,mean_absolute_error\n",
      "Epoch 5/25\n",
      "402/402 [==============================] - 52s 128ms/step - loss: 1.1064 - mean_absolute_error: 0.6861\n",
      "WARNING:tensorflow:Early stopping conditioned on metric `val_loss` which is not available. Available metrics are: loss,mean_absolute_error\n",
      "Epoch 6/25\n",
      "402/402 [==============================] - 52s 130ms/step - loss: 2.5803 - mean_absolute_error: 1.1232\n",
      "WARNING:tensorflow:Early stopping conditioned on metric `val_loss` which is not available. Available metrics are: loss,mean_absolute_error\n",
      "Epoch 7/25\n",
      "402/402 [==============================] - 52s 130ms/step - loss: 1.7097 - mean_absolute_error: 0.9542\n",
      "WARNING:tensorflow:Early stopping conditioned on metric `val_loss` which is not available. Available metrics are: loss,mean_absolute_error\n",
      "Epoch 8/25\n",
      "402/402 [==============================] - 52s 129ms/step - loss: 0.5617 - mean_absolute_error: 0.5181\n",
      "WARNING:tensorflow:Early stopping conditioned on metric `val_loss` which is not available. Available metrics are: loss,mean_absolute_error\n",
      "Epoch 9/25\n",
      "402/402 [==============================] - 52s 129ms/step - loss: 0.4694 - mean_absolute_error: 0.4547\n",
      "WARNING:tensorflow:Early stopping conditioned on metric `val_loss` which is not available. Available metrics are: loss,mean_absolute_error\n",
      "Epoch 10/25\n",
      "402/402 [==============================] - 52s 128ms/step - loss: 0.3355 - mean_absolute_error: 0.3768\n",
      "WARNING:tensorflow:Early stopping conditioned on metric `val_loss` which is not available. Available metrics are: loss,mean_absolute_error\n",
      "Epoch 11/25\n",
      "402/402 [==============================] - 52s 129ms/step - loss: 0.3334 - mean_absolute_error: 0.3710\n",
      "WARNING:tensorflow:Early stopping conditioned on metric `val_loss` which is not available. Available metrics are: loss,mean_absolute_error\n",
      "Epoch 12/25\n",
      "402/402 [==============================] - 52s 129ms/step - loss: 0.2758 - mean_absolute_error: 0.3393\n",
      "WARNING:tensorflow:Early stopping conditioned on metric `val_loss` which is not available. Available metrics are: loss,mean_absolute_error\n",
      "Epoch 13/25\n",
      "402/402 [==============================] - 59s 147ms/step - loss: 0.4411 - mean_absolute_error: 0.4112\n",
      "WARNING:tensorflow:Early stopping conditioned on metric `val_loss` which is not available. Available metrics are: loss,mean_absolute_error\n",
      "Epoch 14/25\n",
      "402/402 [==============================] - 58s 145ms/step - loss: 0.3606 - mean_absolute_error: 0.3665\n",
      "WARNING:tensorflow:Early stopping conditioned on metric `val_loss` which is not available. Available metrics are: loss,mean_absolute_error\n",
      "Epoch 15/25\n",
      "402/402 [==============================] - 58s 143ms/step - loss: 0.2747 - mean_absolute_error: 0.3260\n",
      "WARNING:tensorflow:Early stopping conditioned on metric `val_loss` which is not available. Available metrics are: loss,mean_absolute_error\n",
      "Epoch 16/25\n",
      "402/402 [==============================] - 57s 141ms/step - loss: 0.1688 - mean_absolute_error: 0.2626\n",
      "WARNING:tensorflow:Early stopping conditioned on metric `val_loss` which is not available. Available metrics are: loss,mean_absolute_error\n",
      "Epoch 17/25\n",
      "402/402 [==============================] - 55s 138ms/step - loss: 0.2374 - mean_absolute_error: 0.3237\n",
      "WARNING:tensorflow:Early stopping conditioned on metric `val_loss` which is not available. Available metrics are: loss,mean_absolute_error\n",
      "Epoch 18/25\n",
      "402/402 [==============================] - 56s 140ms/step - loss: 0.1727 - mean_absolute_error: 0.2767\n",
      "WARNING:tensorflow:Early stopping conditioned on metric `val_loss` which is not available. Available metrics are: loss,mean_absolute_error\n",
      "Epoch 19/25\n",
      "402/402 [==============================] - 56s 139ms/step - loss: 0.2455 - mean_absolute_error: 0.3187\n",
      "WARNING:tensorflow:Early stopping conditioned on metric `val_loss` which is not available. Available metrics are: loss,mean_absolute_error\n",
      "Epoch 20/25\n",
      "402/402 [==============================] - 54s 134ms/step - loss: 0.1816 - mean_absolute_error: 0.2865\n",
      "WARNING:tensorflow:Early stopping conditioned on metric `val_loss` which is not available. Available metrics are: loss,mean_absolute_error\n",
      "Epoch 21/25\n",
      "402/402 [==============================] - 51s 127ms/step - loss: 0.2271 - mean_absolute_error: 0.3202\n",
      "WARNING:tensorflow:Early stopping conditioned on metric `val_loss` which is not available. Available metrics are: loss,mean_absolute_error\n",
      "Epoch 22/25\n",
      "402/402 [==============================] - 52s 128ms/step - loss: 0.1911 - mean_absolute_error: 0.2902\n",
      "WARNING:tensorflow:Early stopping conditioned on metric `val_loss` which is not available. Available metrics are: loss,mean_absolute_error\n",
      "Epoch 23/25\n",
      "402/402 [==============================] - 52s 128ms/step - loss: 0.1114 - mean_absolute_error: 0.2319\n",
      "WARNING:tensorflow:Early stopping conditioned on metric `val_loss` which is not available. Available metrics are: loss,mean_absolute_error\n",
      "Epoch 24/25\n",
      "402/402 [==============================] - 51s 128ms/step - loss: 0.2058 - mean_absolute_error: 0.2929\n",
      "WARNING:tensorflow:Early stopping conditioned on metric `val_loss` which is not available. Available metrics are: loss,mean_absolute_error\n",
      "Epoch 25/25\n",
      "402/402 [==============================] - 51s 128ms/step - loss: 0.1746 - mean_absolute_error: 0.2832\n",
      "WARNING:tensorflow:Early stopping conditioned on metric `val_loss` which is not available. Available metrics are: loss,mean_absolute_error\n"
     ]
    }
   ],
   "source": [
    "# history=model.fit(train_x, \n",
    "#                   train_y, \n",
    "#                   epochs=100, \n",
    "#                   batch_size=16, \n",
    "#                   validation_split=0.1,\n",
    "#                  )\n",
    "\n",
    "early_stopping = tf.keras.callbacks.EarlyStopping(monitor='val_loss',\n",
    "                                                    patience=2,\n",
    "                                                    mode='min')\n",
    "\n",
    "model.compile(loss=tf.losses.MeanSquaredError(),\n",
    "              optimizer=tf.optimizers.Adam(),\n",
    "              metrics=[tf.metrics.MeanAbsoluteError()])\n",
    "\n",
    "history = model.fit(train_x, \n",
    "                    train_y,\n",
    "                    epochs=25,\n",
    "                    shuffle=False,\n",
    "                    callbacks=[early_stopping])"
   ]
  },
  {
   "cell_type": "code",
   "execution_count": 54,
   "metadata": {},
   "outputs": [],
   "source": [
    "model.save('trained_model_50_epochs.h5')"
   ]
  },
  {
   "cell_type": "code",
   "execution_count": 249,
   "metadata": {},
   "outputs": [
    {
     "data": {
      "text/plain": [
       "<Figure size 432x288 with 0 Axes>"
      ]
     },
     "execution_count": 249,
     "metadata": {},
     "output_type": "execute_result"
    },
    {
     "data": {
      "image/png": "[encoded data removed]",
      "text/plain": [
       "<Figure size 432x288 with 1 Axes>"
      ]
     },
     "metadata": {
      "needs_background": "light"
     },
     "output_type": "display_data"
    },
    {
     "data": {
      "text/plain": [
       "<Figure size 432x288 with 0 Axes>"
      ]
     },
     "metadata": {},
     "output_type": "display_data"
    }
   ],
   "source": [
    "import matplotlib.pyplot as plt\n",
    "\n",
    "\n",
    "loss= history.history['loss']\n",
    "mae= history.history['mean_absolute_error']\n",
    "# acc= history.history['acc']\n",
    "# val_acc=history.history['val_acc']\n",
    "\n",
    "epochs= range(len(loss))\n",
    "\n",
    "# plt.plot(epochs,acc)\n",
    "# plt.plot(epochs,val_acc)\n",
    "# plt.title('training accuracy and validation accuracy')\n",
    "# plt.figure()\n",
    "\n",
    "plt.plot(epochs,loss)\n",
    "plt.plot(epochs,mae)\n",
    "plt.title('training loss and validation loss')\n",
    "plt.figure()"
   ]
  },
  {
   "cell_type": "code",
   "execution_count": 250,
   "metadata": {},
   "outputs": [],
   "source": [
    "#get the dates for the next 90 days \n",
    "n_future=60\n",
    "forecast_period_dates = pd.date_range(list(train_dates)[-1], periods=n_future, freq='1d').tolist()"
   ]
  },
  {
   "cell_type": "code",
   "execution_count": 251,
   "metadata": {},
   "outputs": [
    {
     "data": {
      "text/plain": [
       "[7, 8, 9]"
      ]
     },
     "execution_count": 251,
     "metadata": {},
     "output_type": "execute_result"
    }
   ],
   "source": [
    "k=[1,2,3,4,5,6,7,8,9]\n",
    "k[-3:]"
   ]
  },
  {
   "cell_type": "code",
   "execution_count": 252,
   "metadata": {},
   "outputs": [
    {
     "data": {
      "text/plain": [
       "(12845, 60, 89)"
      ]
     },
     "execution_count": 252,
     "metadata": {},
     "output_type": "execute_result"
    }
   ],
   "source": [
    "train_x.shape"
   ]
  },
  {
   "cell_type": "code",
   "execution_count": 253,
   "metadata": {},
   "outputs": [],
   "source": [
    "#forecast the next 60 days\n",
    "#pass the last 60 days as input\n",
    "\n",
    "forecast= model.predict(train_x[-n_future:])\n"
   ]
  },
  {
   "cell_type": "code",
   "execution_count": 254,
   "metadata": {},
   "outputs": [],
   "source": [
    "# transforming back to real values\n",
    "# first lets change back the shape in order for inverse transform to pick up\n",
    "forecast_copies= np.repeat(forecast, df_for_training.shape[1], axis=1)\n",
    "y_pred_future= scaler.inverse_transform(forecast_copies)[:,0]"
   ]
  },
  {
   "cell_type": "code",
   "execution_count": 255,
   "metadata": {
    "scrolled": true
   },
   "outputs": [
    {
     "data": {
      "text/plain": [
       "array([3735.9749, 3749.2576, 3766.65  , 3759.9749, 3779.7612, 3792.1343,\n",
       "       3814.394 , 3817.2417, 3808.7512, 3803.1584, 3779.6926, 3777.6277,\n",
       "       3778.4133, 3797.6028, 3818.0188, 3803.2302, 3794.7554, 3780.3152,\n",
       "       3768.8489, 3778.1904, 3785.9016, 3804.8071, 3818.0378, 3791.3977,\n",
       "       3780.3452, 3782.2214, 3789.8853, 3801.6191, 3806.881 , 3812.4817,\n",
       "       3833.9148, 3866.1243, 3847.5105, 3838.7114, 3850.6309, 3878.373 ,\n",
       "       3885.978 , 3909.9885, 3885.702 , 3909.3325, 3881.2734, 3881.777 ,\n",
       "       3859.0046, 3863.1533, 3864.4487, 3858.0461, 3866.0815, 3865.8918,\n",
       "       3874.4631, 3879.37  , 3885.1343, 3903.466 , 3926.7249, 3943.2324,\n",
       "       3951.3083, 3954.8708, 3947.043 , 3921.7554, 3898.5432, 3879.2126],\n",
       "      dtype=float32)"
      ]
     },
     "execution_count": 255,
     "metadata": {},
     "output_type": "execute_result"
    }
   ],
   "source": [
    "y_pred_future"
   ]
  },
  {
   "cell_type": "code",
   "execution_count": 256,
   "metadata": {},
   "outputs": [],
   "source": [
    "forecast_dates=[]\n",
    "for time_i in forecast_period_dates:\n",
    "    forecast_dates.append(time_i.date())"
   ]
  },
  {
   "cell_type": "code",
   "execution_count": 257,
   "metadata": {},
   "outputs": [],
   "source": [
    "df_forecast=pd.DataFrame({'Date':np.array(forecast_dates), 'Adj Close':y_pred_future})\n",
    "df_forecast['Date']=pd.to_datetime(df_forecast['Date'])"
   ]
  },
  {
   "cell_type": "code",
   "execution_count": 258,
   "metadata": {},
   "outputs": [
    {
     "data": {
      "text/html": [
       "<div>\n",
       "<style scoped>\n",
       "    .dataframe tbody tr th:only-of-type {\n",
       "        vertical-align: middle;\n",
       "    }\n",
       "\n",
       "    .dataframe tbody tr th {\n",
       "        vertical-align: top;\n",
       "    }\n",
       "\n",
       "    .dataframe thead th {\n",
       "        text-align: right;\n",
       "    }\n",
       "</style>\n",
       "<table border=\"1\" class=\"dataframe\">\n",
       "  <thead>\n",
       "    <tr style=\"text-align: right;\">\n",
       "      <th></th>\n",
       "      <th>Date</th>\n",
       "      <th>Adj Close</th>\n",
       "    </tr>\n",
       "  </thead>\n",
       "  <tbody>\n",
       "    <tr>\n",
       "      <th>0</th>\n",
       "      <td>2021-03-01</td>\n",
       "      <td>3735.974854</td>\n",
       "    </tr>\n",
       "    <tr>\n",
       "      <th>1</th>\n",
       "      <td>2021-03-02</td>\n",
       "      <td>3749.257568</td>\n",
       "    </tr>\n",
       "    <tr>\n",
       "      <th>2</th>\n",
       "      <td>2021-03-03</td>\n",
       "      <td>3766.649902</td>\n",
       "    </tr>\n",
       "    <tr>\n",
       "      <th>3</th>\n",
       "      <td>2021-03-04</td>\n",
       "      <td>3759.974854</td>\n",
       "    </tr>\n",
       "    <tr>\n",
       "      <th>4</th>\n",
       "      <td>2021-03-05</td>\n",
       "      <td>3779.761230</td>\n",
       "    </tr>\n",
       "  </tbody>\n",
       "</table>\n",
       "</div>"
      ],
      "text/plain": [
       "        Date    Adj Close\n",
       "0 2021-03-01  3735.974854\n",
       "1 2021-03-02  3749.257568\n",
       "2 2021-03-03  3766.649902\n",
       "3 2021-03-04  3759.974854\n",
       "4 2021-03-05  3779.761230"
      ]
     },
     "execution_count": 258,
     "metadata": {},
     "output_type": "execute_result"
    }
   ],
   "source": [
    "df_forecast.head(5)"
   ]
  },
  {
   "cell_type": "code",
   "execution_count": 259,
   "metadata": {},
   "outputs": [
    {
     "name": "stderr",
     "output_type": "stream",
     "text": [
      "c:\\users\\a\\appdata\\local\\programs\\python\\python37\\lib\\site-packages\\matplotlib\\cbook\\__init__.py:1402: FutureWarning: Support for multi-dimensional indexing (e.g. `obj[:, None]`) is deprecated and will be removed in a future version.  Convert to a numpy array before indexing instead.\n",
      "  ndim = x[:, None].ndim\n",
      "c:\\users\\a\\appdata\\local\\programs\\python\\python37\\lib\\site-packages\\matplotlib\\axes\\_base.py:276: FutureWarning: Support for multi-dimensional indexing (e.g. `obj[:, None]`) is deprecated and will be removed in a future version.  Convert to a numpy array before indexing instead.\n",
      "  x = x[:, np.newaxis]\n",
      "c:\\users\\a\\appdata\\local\\programs\\python\\python37\\lib\\site-packages\\matplotlib\\axes\\_base.py:278: FutureWarning: Support for multi-dimensional indexing (e.g. `obj[:, None]`) is deprecated and will be removed in a future version.  Convert to a numpy array before indexing instead.\n",
      "  y = y[:, np.newaxis]\n"
     ]
    },
    {
     "data": {
      "text/plain": [
       "[<matplotlib.lines.Line2D at 0x648ad6a0>]"
      ]
     },
     "execution_count": 259,
     "metadata": {},
     "output_type": "execute_result"
    },
    {
     "data": {
      "image/png": "[encoded data removed]",
      "text/plain": [
       "<Figure size 432x288 with 1 Axes>"
      ]
     },
     "metadata": {
      "needs_background": "light"
     },
     "output_type": "display_data"
    }
   ],
   "source": [
    "plt.plot(df_forecast['Date'], df_forecast['Adj Close'])"
   ]
  },
  {
   "cell_type": "code",
   "execution_count": 260,
   "metadata": {},
   "outputs": [
    {
     "name": "stderr",
     "output_type": "stream",
     "text": [
      "c:\\users\\a\\appdata\\local\\programs\\python\\python37\\lib\\site-packages\\ipykernel_launcher.py:3: SettingWithCopyWarning: \n",
      "A value is trying to be set on a copy of a slice from a DataFrame.\n",
      "Try using .loc[row_indexer,col_indexer] = value instead\n",
      "\n",
      "See the caveats in the documentation: https://pandas.pydata.org/pandas-docs/stable/user_guide/indexing.html#returning-a-view-versus-a-copy\n",
      "  This is separate from the ipykernel package so we can avoid doing imports until\n"
     ]
    }
   ],
   "source": [
    "# df=df.reset_index()\n",
    "original=df[[ 'Date','Adj Close']]\n",
    "original['Date']=pd.to_datetime(original['Date'])\n",
    "original=original.loc[original['Date'] >= '2021-2-1']\n"
   ]
  },
  {
   "cell_type": "code",
   "execution_count": 261,
   "metadata": {},
   "outputs": [
    {
     "data": {
      "text/plain": [
       "<matplotlib.axes._subplots.AxesSubplot at 0x64d76240>"
      ]
     },
     "execution_count": 261,
     "metadata": {},
     "output_type": "execute_result"
    },
    {
     "data": {
      "image/png": "[encoded data removed]",
      "text/plain": [
       "<Figure size 432x288 with 1 Axes>"
      ]
     },
     "metadata": {
      "needs_background": "light"
     },
     "output_type": "display_data"
    }
   ],
   "source": [
    "sns.lineplot(original['Date'], original['Adj Close'])\n",
    "sns.lineplot(df_forecast['Date'], df_forecast['Adj Close'])"
   ]
  },
  {
   "cell_type": "markdown",
   "metadata": {},
   "source": [
    "- As we can see the trend forecast suggest that the price is overdue for a correction in the upcoming days.\n",
    "- The forecast should not be used for trading purposes as it has not been optimised and still requires a lot of work"
   ]
  },
  {
   "cell_type": "code",
   "execution_count": null,
   "metadata": {},
   "outputs": [],
   "source": []
  },
  {
   "cell_type": "code",
   "execution_count": null,
   "metadata": {},
   "outputs": [],
   "source": []
  }
 ],
 "metadata": {
  "kernelspec": {
   "display_name": "Python 3",
   "language": "python",
   "name": "python3"
  },
  "language_info": {
   "codemirror_mode": {
    "name": "ipython",
    "version": 3
   },
   "file_extension": ".py",
   "mimetype": "text/x-python",
   "name": "python",
   "nbconvert_exporter": "python",
   "pygments_lexer": "ipython3",
   "version": "3.7.0"
  }
 },
 "nbformat": 4,
 "nbformat_minor": 4
}
